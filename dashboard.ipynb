{
 "cells": [
  {
   "cell_type": "code",
   "execution_count": 4,
   "metadata": {},
   "outputs": [
    {
     "name": "stderr",
     "output_type": "stream",
     "text": [
      "C:\\Users\\alex.lourenco\\AppData\\Local\\Temp\\ipykernel_6440\\1820951698.py:15: UserWarning: pandas only supports SQLAlchemy connectable (engine/connection) or database string URI or sqlite3 DBAPI2 connection. Other DBAPI2 objects are not tested. Please consider using SQLAlchemy.\n",
      "  chuva = pd.read_sql(query, cnx)\n"
     ]
    }
   ],
   "source": [
    "import psycopg2\n",
    "import pandas as pd\n",
    "import dash\n",
    "import dash_core_components as dcc\n",
    "import dash_html_components as html\n",
    "import plotly.graph_objs as go\n",
    "# from slack_sdk import WebClient\n",
    "# from slack_sdk.errors import SlackApiError\n",
    "from db import conexao\n",
    "\n",
    "# Criação do layout do dashboard\n",
    "\n",
    "query=conexao()[1]\n",
    "cnx=conexao()[0]\n",
    "chuva = pd.read_sql(query, cnx)\n",
    "import os\n",
    "import base64\n",
    "import dash\n",
    "import dash_html_components as html\n",
    "import dash_core_components as dcc\n",
    "from dash.dependencies import Input, Output, State\n",
    "\n",
    "\n",
    "# Função que salva o arquivo PDF na pasta de downloads\n",
    "def save_file(name, content):\n",
    "    \"\"\"Salva o arquivo em uma pasta de downloads.\"\"\"\n",
    "    data = content.encode(\"utf8\").split(b\";base64,\")[1]\n",
    "    with open(os.path.join(os.path.expanduser(\"~\"), \"Downloads\", name), \"wb\") as f:\n",
    "        f.write(base64.decodebytes(data))\n",
    "\n",
    "\n",
    "# Criação do layout do dashboard\n",
    "app = dash.Dash(__name__)\n",
    "app.layout = html.Div(children=[\n",
    "    html.H1(children='Dashboard de Precipitação'),\n",
    "\n",
    "    html.Div(children='''\n",
    "        Visualização dos dados de precipitação por bacia e sub-bacia.\n",
    "    '''),\n",
    "\n",
    "    # Adicionando um botão de upload de arquivo PDF\n",
    "    dcc.Upload(\n",
    "        id='upload-data',\n",
    "        children=html.Div([\n",
    "            'Arraste e solte ou ',\n",
    "            html.A('selecione um arquivo')\n",
    "        ]),\n",
    "        style={\n",
    "            'width': '100%',\n",
    "            'height': '60px',\n",
    "            'lineHeight': '60px',\n",
    "            'borderWidth': '1px',\n",
    "            'borderStyle': 'dashed',\n",
    "            'borderRadius': '5px',\n",
    "            'textAlign': 'center',\n",
    "            'margin': '10px'\n",
    "        },\n",
    "        # Permite apenas upload de arquivos PDF\n",
    "        accept='.pdf'\n",
    "    ),\n",
    "\n",
    "    # Adicionando uma mensagem de feedback para o usuário\n",
    "    html.Div(id='output-data-upload'),\n",
    "\n",
    "    dcc.Graph(\n",
    "        id='precipitacao-bacia',\n",
    "        figure={\n",
    "            'data': [\n",
    "                # Seus dados e gráficos aqui\n",
    "            ],\n",
    "            'layout': {\n",
    "                # Seu layout aqui\n",
    "            }\n",
    "        }\n",
    "    )\n",
    "])\n",
    "\n",
    "\n",
    "# Função que lida com o upload do arquivo\n",
    "@app.callback(Output('output-data-upload', 'children'),\n",
    "              Input('upload-data', 'contents'),\n",
    "              State('upload-data', 'filename'))\n",
    "def update_output(content, name):\n",
    "    if content is not None:\n",
    "        # Salva o arquivo PDF na pasta de downloads\n",
    "        save_file(name, content)\n",
    "        return html.Div([\n",
    "            'O arquivo ', html.B(name), ' foi salvo na pasta de downloads.'\n",
    "        ])\n",
    "\n",
    "\n",
    "# Execução do dashboard\n",
    "#if __name__ == '__main__':\n",
    "#    app.run_server(debug=True)\n"
   ]
  },
  {
   "cell_type": "code",
   "execution_count": 5,
   "metadata": {},
   "outputs": [
    {
     "name": "stdout",
     "output_type": "stream",
     "text": [
      "Dash is running on http://127.0.0.1:8050/\n",
      "\n",
      " * Serving Flask app '__main__'\n",
      " * Debug mode: on\n"
     ]
    },
    {
     "ename": "SystemExit",
     "evalue": "1",
     "output_type": "error",
     "traceback": [
      "An exception has occurred, use %tb to see the full traceback.\n",
      "\u001b[1;31mSystemExit\u001b[0m\u001b[1;31m:\u001b[0m 1\n"
     ]
    },
    {
     "name": "stderr",
     "output_type": "stream",
     "text": [
      "c:\\Users\\alex.lourenco\\Documents\\PycharmProjects\\Projeto\\researchenergy\\lib\\site-packages\\IPython\\core\\interactiveshell.py:3516: UserWarning: To exit: use 'exit', 'quit', or Ctrl-D.\n",
      "  warn(\"To exit: use 'exit', 'quit', or Ctrl-D.\", stacklevel=1)\n"
     ]
    }
   ],
   "source": [
    "# Execução do dashboard\n",
    "if __name__ == '__main__':\n",
    "    app.run_server(debug=True)"
   ]
  }
 ],
 "metadata": {
  "kernelspec": {
   "display_name": "Python 3",
   "language": "python",
   "name": "python3"
  },
  "language_info": {
   "codemirror_mode": {
    "name": "ipython",
    "version": 3
   },
   "file_extension": ".py",
   "mimetype": "text/x-python",
   "name": "python",
   "nbconvert_exporter": "python",
   "pygments_lexer": "ipython3",
   "version": "3.10.4"
  },
  "orig_nbformat": 4
 },
 "nbformat": 4,
 "nbformat_minor": 2
}
