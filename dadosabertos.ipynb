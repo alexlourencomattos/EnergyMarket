{
 "cells": [
  {
   "cell_type": "code",
   "execution_count": 2,
   "metadata": {},
   "outputs": [],
   "source": [
    "import pandas as pd"
   ]
  },
  {
   "cell_type": "code",
   "execution_count": 3,
   "metadata": {},
   "outputs": [
    {
     "name": "stdout",
     "output_type": "stream",
     "text": [
      "    id_subsistema nom_subsistema    ena_data  ena_bruta_regiao_mwmed  \\\n",
      "0               N          NORTE  2023-01-01            17715.675781   \n",
      "1              NE       NORDESTE  2023-01-01            12355.788086   \n",
      "2               S            SUL  2023-01-01             6388.172852   \n",
      "3              SE        SUDESTE  2023-01-01            57324.421875   \n",
      "4               N          NORTE  2023-01-02            18558.996094   \n",
      "..            ...            ...         ...                     ...   \n",
      "751            SE        SUDESTE  2023-07-07            22927.787109   \n",
      "752             N          NORTE  2023-07-08             4711.291016   \n",
      "753            NE       NORDESTE  2023-07-08             2093.238037   \n",
      "754             S            SUL  2023-07-08             8324.657227   \n",
      "755            SE        SUDESTE  2023-07-08            22737.257812   \n",
      "\n",
      "     ena_bruta_regiao_percentualmlt  ena_armazenavel_regiao_mwmed  \\\n",
      "0                        114.157402                  16312.749023   \n",
      "1                         91.997902                  12147.722656   \n",
      "2                         84.056602                   6047.412109   \n",
      "3                         87.380302                  53329.945312   \n",
      "4                        119.591698                  17971.695312   \n",
      "..                              ...                           ...   \n",
      "751                       89.405403                  22800.005859   \n",
      "752                       89.554802                   4443.622070   \n",
      "753                       55.449600                   2081.798096   \n",
      "754                       76.136498                   7663.879883   \n",
      "755                       88.662498                  22600.488281   \n",
      "\n",
      "     ena_armazenavel_regiao_percentualmlt  \n",
      "0                              105.117104  \n",
      "1                               90.448799  \n",
      "2                               79.572899  \n",
      "3                               81.291397  \n",
      "4                              115.807198  \n",
      "..                                    ...  \n",
      "751                             88.907097  \n",
      "752                             84.466797  \n",
      "753                             55.146599  \n",
      "754                             70.093102  \n",
      "755                             88.129097  \n",
      "\n",
      "[756 rows x 7 columns]\n"
     ]
    }
   ],
   "source": [
    "year=2023\n",
    "ENA_df = pd.read_csv(\n",
    "        \"https://ons-dl-prod-opendata.s3.amazonaws.com/dataset/ena_subsistema_di/ENA_DIARIO_SUBSISTEMA_\" + str(\n",
    "            year) + \".csv\", sep=\";\")\n",
    "#ENA_df_sub = feature_by_sub(ENA_df.drop(columns=['nom_subsistema']), 'id_subsistema', 'ena_data')\n",
    "print(ENA_df)"
   ]
  },
  {
   "cell_type": "code",
   "execution_count": 5,
   "metadata": {},
   "outputs": [
    {
     "name": "stdout",
     "output_type": "stream",
     "text": [
      "  id_subsistema nom_subsistema nom_bacia nom_rio   nom_agente  \\\n",
      "0             N          NORTE  AMAZONAS  UATUMA  ELETRONORTE   \n",
      "1             N          NORTE  AMAZONAS  UATUMA  ELETRONORTE   \n",
      "2             N          NORTE  AMAZONAS  UATUMA  ELETRONORTE   \n",
      "3             N          NORTE  AMAZONAS  UATUMA  ELETRONORTE   \n",
      "4             N          NORTE  AMAZONAS  UATUMA  ELETRONORTE   \n",
      "\n",
      "  nom_reservatorio  cod_usina         din_instante  val_geracao  \\\n",
      "0          BALBINA      277.0  2023-01-01 00:00:00      103.261   \n",
      "1          BALBINA      277.0  2023-01-01 01:00:00      102.334   \n",
      "2          BALBINA      277.0  2023-01-01 02:00:00      103.473   \n",
      "3          BALBINA      277.0  2023-01-01 03:00:00      102.531   \n",
      "4          BALBINA      277.0  2023-01-01 04:00:00      101.440   \n",
      "\n",
      "   val_disponibilidade  val_vazaoturbinada  val_vazaovertida  \\\n",
      "0                250.0               600.0               0.0   \n",
      "1                250.0               600.0               0.0   \n",
      "2                250.0               600.0               0.0   \n",
      "3                250.0               600.0               0.0   \n",
      "4                250.0               600.0               0.0   \n",
      "\n",
      "   val_vazaovertidanaoturbinavel  val_produtividade  val_folgadegeracao  \\\n",
      "0                            0.0           0.172102             146.739   \n",
      "1                            0.0           0.170557             147.666   \n",
      "2                            0.0           0.172455             146.527   \n",
      "3                            0.0           0.170885             147.469   \n",
      "4                            0.0           0.169067             148.560   \n",
      "\n",
      "   val_energiavertida  val_vazaovertidaturbinavel  \\\n",
      "0                 0.0                         0.0   \n",
      "1                 0.0                         0.0   \n",
      "2                 0.0                         0.0   \n",
      "3                 0.0                         0.0   \n",
      "4                 0.0                         0.0   \n",
      "\n",
      "   val_energiavertidaturbinavel  \n",
      "0                           0.0  \n",
      "1                           0.0  \n",
      "2                           0.0  \n",
      "3                           0.0  \n",
      "4                           0.0  \n"
     ]
    }
   ],
   "source": [
    "year=2023\n",
    "vert_df = pd.read_csv(\n",
    "        \"https://ons-dl-prod-opendata.s3.amazonaws.com/dataset/energia_vertida_turbinavel_ho/ENERGIA_VERTIDA_TURBINAVEL_\" + str(\n",
    "            year) + \".csv\", sep=\";\")\n",
    "#ENA_df_sub = feature_by_sub(ENA_df.drop(columns=['nom_subsistema']), 'id_subsistema', 'ena_data')\n",
    "print(vert_df.head())"
   ]
  },
  {
   "cell_type": "code",
   "execution_count": 9,
   "metadata": {},
   "outputs": [
    {
     "name": "stdout",
     "output_type": "stream",
     "text": [
      "<class 'pandas.core.frame.DataFrame'>\n",
      "RangeIndex: 674146 entries, 0 to 674145\n",
      "Data columns (total 18 columns):\n",
      " #   Column                         Non-Null Count   Dtype  \n",
      "---  ------                         --------------   -----  \n",
      " 0   id_subsistema                  674146 non-null  object \n",
      " 1   nom_subsistema                 674146 non-null  object \n",
      " 2   nom_bacia                      674146 non-null  object \n",
      " 3   nom_rio                        674146 non-null  object \n",
      " 4   nom_agente                     674146 non-null  object \n",
      " 5   nom_reservatorio               674146 non-null  object \n",
      " 6   cod_usina                      669658 non-null  float64\n",
      " 7   din_instante                   674146 non-null  object \n",
      " 8   val_geracao                    674146 non-null  float64\n",
      " 9   val_disponibilidade            674146 non-null  float64\n",
      " 10  val_vazaoturbinada             674146 non-null  float64\n",
      " 11  val_vazaovertida               674146 non-null  float64\n",
      " 12  val_vazaovertidanaoturbinavel  674146 non-null  float64\n",
      " 13  val_produtividade              674146 non-null  float64\n",
      " 14  val_folgadegeracao             674146 non-null  float64\n",
      " 15  val_energiavertida             674146 non-null  float64\n",
      " 16  val_vazaovertidaturbinavel     674146 non-null  float64\n",
      " 17  val_energiavertidaturbinavel   674146 non-null  float64\n",
      "dtypes: float64(11), object(7)\n",
      "memory usage: 92.6+ MB\n",
      "None\n"
     ]
    }
   ],
   "source": [
    "#print(vert_df.head())\n",
    "print(vert_df.info())"
   ]
  }
 ],
 "metadata": {
  "kernelspec": {
   "display_name": ".venv",
   "language": "python",
   "name": "python3"
  },
  "language_info": {
   "codemirror_mode": {
    "name": "ipython",
    "version": 3
   },
   "file_extension": ".py",
   "mimetype": "text/x-python",
   "name": "python",
   "nbconvert_exporter": "python",
   "pygments_lexer": "ipython3",
   "version": "3.10.4"
  },
  "orig_nbformat": 4
 },
 "nbformat": 4,
 "nbformat_minor": 2
}
